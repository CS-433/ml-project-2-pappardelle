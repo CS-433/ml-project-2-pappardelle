{
 "cells": [
  {
   "cell_type": "code",
   "execution_count": 16,
   "id": "b139baf6",
   "metadata": {},
   "outputs": [],
   "source": [
    "import h5py"
   ]
  },
  {
   "cell_type": "code",
   "execution_count": 30,
   "id": "cac1ccdc",
   "metadata": {},
   "outputs": [],
   "source": [
    "file = h5py.File('Fission_yeast/datasets.hdf5', 'r')"
   ]
  },
  {
   "cell_type": "code",
   "execution_count": 31,
   "id": "77f7f25f",
   "metadata": {},
   "outputs": [
    {
     "data": {
      "text/plain": [
       "['test', 'time_lapse_train']"
      ]
     },
     "execution_count": 31,
     "metadata": {},
     "output_type": "execute_result"
    }
   ],
   "source": [
    "list(file.keys())"
   ]
  },
  {
   "cell_type": "code",
   "execution_count": 32,
   "id": "e5349ab9",
   "metadata": {},
   "outputs": [],
   "source": [
    "test_set = file['test']\n",
    "train_set = file['time_lapse_train']"
   ]
  },
  {
   "cell_type": "code",
   "execution_count": 46,
   "id": "9ba67517",
   "metadata": {},
   "outputs": [],
   "source": [
    "gt = train_set['gt']"
   ]
  },
  {
   "cell_type": "code",
   "execution_count": null,
   "id": "8d0573d1",
   "metadata": {},
   "outputs": [],
   "source": []
  }
 ],
 "metadata": {
  "kernelspec": {
   "display_name": "Python 3 (ipykernel)",
   "language": "python",
   "name": "python3"
  },
  "language_info": {
   "codemirror_mode": {
    "name": "ipython",
    "version": 3
   },
   "file_extension": ".py",
   "mimetype": "text/x-python",
   "name": "python",
   "nbconvert_exporter": "python",
   "pygments_lexer": "ipython3",
   "version": "3.9.13"
  }
 },
 "nbformat": 4,
 "nbformat_minor": 5
}
