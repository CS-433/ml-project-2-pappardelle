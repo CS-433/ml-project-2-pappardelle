{
 "cells": [
  {
   "cell_type": "code",
   "execution_count": 2,
   "id": "b139baf6",
   "metadata": {},
   "outputs": [],
   "source": [
    "import h5py\n",
    "import numpy as np\n",
    "import matplotlib.pyplot as plt\n",
    "import tifffile as tiff\n",
    "import torch"
   ]
  },
  {
   "cell_type": "code",
   "execution_count": 3,
   "id": "b1fe63bd",
   "metadata": {},
   "outputs": [],
   "source": [
    "#filename of the data set\n",
    "filename = \"datasets.hdf5\""
   ]
  },
  {
   "cell_type": "code",
   "execution_count": 4,
   "id": "77f7f25f",
   "metadata": {},
   "outputs": [],
   "source": [
    "#opening hdf5 file\n",
    "f = h5py.File(filename, \"r\")"
   ]
  },
  {
   "cell_type": "code",
   "execution_count": 6,
   "id": "9ba67517",
   "metadata": {},
   "outputs": [
    {
     "name": "stdout",
     "output_type": "stream",
     "text": [
      "torch.Size([180, 1024, 1024])\n",
      "torch.Size([180, 1024, 1024])\n",
      "torch.Size([180, 1024, 1024])\n",
      "torch.Size([180, 1024, 1024])\n"
     ]
    }
   ],
   "source": [
    "#reading masks\n",
    "for key in list(f['time_lapse_train']['gt']):\n",
    "    data = data = np.array(f['time_lapse_train']['gt'][key], dtype=np.int16)\n",
    "    image_name = key.split('.')[0] + \"_mask.tif\"\n",
    "    tifffile.imsave(image_name, data)"
   ]
  },
  {
   "cell_type": "code",
   "execution_count": null,
   "id": "d1218812",
   "metadata": {},
   "outputs": [],
   "source": [
    "#reading images\n",
    "for key in list(f['time_lapse_train']['img']):\n",
    "    data = data = np.array(f['time_lapse_train']['img'][key], dtype=np.int16)\n",
    "    image_name = key.split('.')[0] + \"_image.tif\"\n",
    "    tifffile.imsave(image_name, data)"
   ]
  }
 ],
 "metadata": {
  "kernelspec": {
   "display_name": "Python 3 (ipykernel)",
   "language": "python",
   "name": "python3"
  },
  "language_info": {
   "codemirror_mode": {
    "name": "ipython",
    "version": 3
   },
   "file_extension": ".py",
   "mimetype": "text/x-python",
   "name": "python",
   "nbconvert_exporter": "python",
   "pygments_lexer": "ipython3",
   "version": "3.9.13"
  }
 },
 "nbformat": 4,
 "nbformat_minor": 5
}
