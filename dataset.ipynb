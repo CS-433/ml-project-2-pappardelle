{
 "cells": [
  {
   "cell_type": "code",
   "execution_count": 29,
   "id": "b139baf6",
   "metadata": {},
   "outputs": [],
   "source": [
    "import h5py\n",
    "import numpy as np\n",
    "import matplotlib.pyplot as plt\n",
    "import tifffile\n",
    "import torch"
   ]
  },
  {
   "cell_type": "code",
   "execution_count": 30,
   "id": "cac1ccdc",
   "metadata": {},
   "outputs": [],
   "source": [
    "filename = \"datasets.hdf5\""
   ]
  },
  {
   "cell_type": "code",
   "execution_count": 31,
   "id": "77f7f25f",
   "metadata": {},
   "outputs": [],
   "source": [
    "#opening hdf5 file\n",
    "f = h5py.File(filename, \"r\")"
   ]
  },
  {
   "cell_type": "code",
   "execution_count": 33,
   "id": "e5349ab9",
   "metadata": {},
   "outputs": [],
   "source": [
    "#initializations \n",
    "gt = []\n",
    "img = []"
   ]
  },
  {
   "cell_type": "code",
   "execution_count": 37,
   "id": "9ba67517",
   "metadata": {},
   "outputs": [],
   "source": [
    "#reading masks\n",
    "for key in list(f['time_lapse_train']['gt']):\n",
    "    data = data = np.array(f['time_lapse_train']['gt'][key], dtype=np.int16)\n",
    "    image_name = key.split('.')[0] + \"_mask.tif\"\n",
    "    tifffile.imsave(image_name, data)\n",
    "    data = torch.from_numpy(data)\n",
    "    gt.append(data)\n",
    "    \n",
    "#reading images\n",
    "for key in list(f['time_lapse_train']['img']):\n",
    "    data = data = np.array(f['time_lapse_train']['img'][key], dtype=np.int16)\n",
    "    image_name = key.split('.')[0] + \"_image.tif\"\n",
    "    tifffile.imsave(image_name, data)\n",
    "    data = torch.from_numpy(data)\n",
    "    img.append(data)"
   ]
  },
  {
   "cell_type": "code",
   "execution_count": 124,
   "id": "8d0573d1",
   "metadata": {},
   "outputs": [],
   "source": [
    "img1 = img[0][0:9]\n",
    "img2 = img[0][1:10]\n",
    "\n",
    "img1 = img1[None, :]\n",
    "img2 = img2[None, :]\n",
    "\n",
    "out = torch.stack((im1, im2), -3)"
   ]
  },
  {
   "cell_type": "code",
   "execution_count": 125,
   "id": "89bca935",
   "metadata": {},
   "outputs": [
    {
     "name": "stdout",
     "output_type": "stream",
     "text": [
      "tensor([[[404, 387, 382,  ..., 356, 338, 345],\n",
      "         [396, 387, 394,  ..., 350, 359, 342],\n",
      "         [389, 373, 373,  ..., 347, 354, 354],\n",
      "         ...,\n",
      "         [356, 371, 355,  ..., 354, 346, 355],\n",
      "         [355, 364, 366,  ..., 332, 343, 367],\n",
      "         [358, 365, 365,  ..., 342, 362, 344]],\n",
      "\n",
      "        [[370, 379, 392,  ..., 354, 344, 349],\n",
      "         [386, 382, 380,  ..., 341, 350, 354],\n",
      "         [382, 377, 385,  ..., 350, 352, 352],\n",
      "         ...,\n",
      "         [371, 365, 362,  ..., 350, 357, 359],\n",
      "         [351, 365, 347,  ..., 347, 355, 349],\n",
      "         [372, 378, 377,  ..., 361, 350, 358]]], dtype=torch.int16)\n"
     ]
    }
   ],
   "source": [
    "print(out)"
   ]
  },
  {
   "cell_type": "code",
   "execution_count": 126,
   "id": "c3bbb77c",
   "metadata": {},
   "outputs": [
    {
     "name": "stdout",
     "output_type": "stream",
     "text": [
      "torch.Size([1, 9, 1024, 1024])\n"
     ]
    }
   ],
   "source": [
    "print(img1.shape)"
   ]
  },
  {
   "cell_type": "code",
   "execution_count": 127,
   "id": "ba2896f6",
   "metadata": {},
   "outputs": [
    {
     "name": "stdout",
     "output_type": "stream",
     "text": [
      "torch.Size([2, 1024, 1024])\n"
     ]
    }
   ],
   "source": [
    "print(out.shape)"
   ]
  },
  {
   "cell_type": "code",
   "execution_count": null,
   "id": "60965340",
   "metadata": {},
   "outputs": [],
   "source": []
  }
 ],
 "metadata": {
  "kernelspec": {
   "display_name": "Python 3 (ipykernel)",
   "language": "python",
   "name": "python3"
  },
  "language_info": {
   "codemirror_mode": {
    "name": "ipython",
    "version": 3
   },
   "file_extension": ".py",
   "mimetype": "text/x-python",
   "name": "python",
   "nbconvert_exporter": "python",
   "pygments_lexer": "ipython3",
   "version": "3.9.13"
  }
 },
 "nbformat": 4,
 "nbformat_minor": 5
}
